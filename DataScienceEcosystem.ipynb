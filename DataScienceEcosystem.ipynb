{
 "cells": [
  {
   "cell_type": "markdown",
   "id": "8e6714dd-4def-44ee-bf31-8c8af2e091c1",
   "metadata": {},
   "source": [
    "# Data Science Tools and Ecosystems"
   ]
  },
  {
   "cell_type": "markdown",
   "id": "7fd355d0-6aa1-49bd-9bd1-26d30bbe6dc2",
   "metadata": {},
   "source": [
    "## Author\n",
    "   Prem Aggarwal"
   ]
  },
  {
   "cell_type": "markdown",
   "id": "40fd387d-5426-4f30-a927-8861e23d2311",
   "metadata": {
    "tags": []
   },
   "source": [
    "## In this notebook, Data Science Tools and Ecosystem are summarized."
   ]
  },
  {
   "cell_type": "markdown",
   "id": "26f2e904-b38c-4fcf-a3d4-c7a197c4b859",
   "metadata": {},
   "source": [
    "## **Objectives:**\n",
    "- List Data Science Languages\n",
    "- List Data Science Libraries\n",
    "- List Open Source Development Environments for Data Science\n",
    "- Basic Arithmetic Expressions"
   ]
  },
  {
   "cell_type": "markdown",
   "id": "e7b747c4-533b-45ba-8ecf-0fb20dac3020",
   "metadata": {},
   "source": [
    "## Some of the popular languages that Data Scientists use are:\n",
    "    1. Python\n",
    "    2. SQL\n",
    "    3. Scala\n",
    "    4. R\n",
    "    5. Java"
   ]
  },
  {
   "cell_type": "markdown",
   "id": "30115038-d6ad-4cfc-878a-6435b8695021",
   "metadata": {},
   "source": [
    "## Some of the commonly used libraries used by Data Scientists include:\n",
    "    1. Pandas\n",
    "    2. NumPy\n",
    "    3. scikit-learn\n",
    "    4. Matplotlib"
   ]
  },
  {
   "cell_type": "markdown",
   "id": "afeb3452-4283-4567-b803-9babd9256c0d",
   "metadata": {},
   "source": [
    "## Table for data science tools\n",
    "\n",
    "|Data Science Tools|\n",
    "|:----------------:|\n",
    "| Jupyter Notebook |\n",
    "| Visual Studio Code |\n",
    "| JupyterLab       |"
   ]
  },
  {
   "cell_type": "markdown",
   "id": "95350ddb-c5a2-4fce-85d7-ffe7ebc4d813",
   "metadata": {},
   "source": [
    "### Below are a few examples of evaluating arithmetic expressions in Python"
   ]
  },
  {
   "cell_type": "code",
   "execution_count": 1,
   "id": "bf6e583c-efd1-4b93-b9ef-20a1eb03463a",
   "metadata": {
    "tags": []
   },
   "outputs": [
    {
     "data": {
      "text/plain": [
       "17"
      ]
     },
     "execution_count": 1,
     "metadata": {},
     "output_type": "execute_result"
    }
   ],
   "source": [
    "# This is a simple arithmetic expression to multiply then add integers\n",
    "(3*4)+5"
   ]
  },
  {
   "cell_type": "code",
   "execution_count": 2,
   "id": "6f5a19fc-75b9-4d47-b0dc-3416a41a7de4",
   "metadata": {
    "tags": []
   },
   "outputs": [
    {
     "data": {
      "text/plain": [
       "3.3333333333333335"
      ]
     },
     "execution_count": 2,
     "metadata": {},
     "output_type": "execute_result"
    }
   ],
   "source": [
    "# This will convert 200 minutes to hours by dividing by 60\n",
    "200/60"
   ]
  }
 ],
 "metadata": {
  "kernelspec": {
   "display_name": "Python 3 (ipykernel)",
   "language": "python",
   "name": "python3"
  },
  "language_info": {
   "codemirror_mode": {
    "name": "ipython",
    "version": 3
   },
   "file_extension": ".py",
   "mimetype": "text/x-python",
   "name": "python",
   "nbconvert_exporter": "python",
   "pygments_lexer": "ipython3",
   "version": "3.11.5"
  },
  "toc-autonumbering": false,
  "toc-showmarkdowntxt": false,
  "toc-showtags": false
 },
 "nbformat": 4,
 "nbformat_minor": 5
}
